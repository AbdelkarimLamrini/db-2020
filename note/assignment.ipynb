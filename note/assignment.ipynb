{
 "cells": [
  {
   "cell_type": "markdown",
   "metadata": {},
   "source": [
    "# PROJECT GEGEVENSBANKEN - SQL"
   ]
  },
  {
   "cell_type": "markdown",
   "metadata": {},
   "source": [
    "# Imports"
   ]
  },
  {
   "cell_type": "code",
   "execution_count": 1,
   "metadata": {},
   "outputs": [],
   "source": [
    "# Setup\n",
    "import getpass  # Package om een paswoordveldje te genereren.\n",
    "import json  # Package om .json files in te laden (bvb kolomnamen zijn zo opgeslagen)\n",
    "import mysql.connector  # MySQL package\n",
    "import numpy as np\n",
    "import os\n",
    "import pandas as pd  # Populaire package voor data-verwerking\n",
    "import re\n",
    "import sys\n",
    "\n",
    "from inspect import getsource\n",
    "from IPython.display import display, Markdown\n",
    "from os.path import dirname\n",
    "\n",
    "# Imports van binnen onze eigen repository\n",
    "this_dir = os.getcwd()\n",
    "root_dir = dirname(this_dir)\n",
    "docs_dir = os.path.join(root_dir, \"docs\")\n",
    "source_dir = os.path.join(root_dir, \"src\")\n",
    "script_dir = os.path.join(root_dir, \"scripts\")\n",
    "solution_dir = os.path.join(root_dir, \"solution\")\n",
    "\n",
    "sys.path.append(script_dir)\n",
    "sys.path.append(source_dir)\n",
    "\n",
    "import db_project  # onze eigen codebase in deze repository\n",
    "from db_project import (\n",
    "    verbind_met_GB,\n",
    "    run_query,\n",
    "    res_to_df,\n",
    ")  # 3 basic functionalities, explained in introduction.\n",
    "\n",
    "# Text files from which some descriptions are rendered (this helps us to keep everything perfectly consistent across different notebooks etc)\n",
    "introduction_file = os.path.join(docs_dir, \"01-introduction.md\")\n",
    "instructions_file = os.path.join(docs_dir, \"02-instructions.md\")\n",
    "qry_description_file = os.path.join(docs_dir, \"03-qry-descriptions.md\")\n",
    "submissions_file = os.path.join(docs_dir, \"04-submissions.md\")\n",
    "\n",
    "from db_project import parse_markdown"
   ]
  },
  {
   "cell_type": "code",
   "execution_count": 2,
   "metadata": {
    "toc-hr-collapsed": false
   },
   "outputs": [
    {
     "data": {
      "text/markdown": [
       "# 1. Inleiding\n",
       "\n",
       "Cf. het document `prerequisites.pdf` in de `docs` folder. \n",
       "\n",
       "## 1.1 Python packages\n",
       "\n",
       "De import statements (cf. boven) vormen de standaardconfiguratie van python-packages die we gebruiken. _Van deze configuratie afwijken is dan ook op eigen risico, gezien dat betekent dat je ook afwijkt van de configuratie van de computer waarop wij jullie oplossingen runnen._\n",
       "\n",
       "## 1.2 Interageren met een gegevensbank\n",
       "\n",
       "Naast de standaard packages, importeren we ook drie zelfgemaakte functies. Deze implementeren functionaliteiten die je vaak zal nodig hebben als je vanuit python queries naar je gegevensbank wil sturen: `verbind_met_GB`, `run_query` en `res_to_df`. Hun source code (en documentatie) bekijken geeft de nodige informatie over hoe ze te gebruiken:\n",
       "    \n",
       "    \n"
      ],
      "text/plain": [
       "<IPython.core.display.Markdown object>"
      ]
     },
     "metadata": {},
     "output_type": "display_data"
    }
   ],
   "source": [
    "display(\n",
    "    Markdown(parse_markdown(introduction_file, section_number=[1, 2, 3]))\n",
    ")  # Tekst en uitleg worden ingelezen uit bestanden uit de `docs` folder."
   ]
  },
  {
   "cell_type": "code",
   "execution_count": 3,
   "metadata": {},
   "outputs": [
    {
     "name": "stdout",
     "output_type": "stream",
     "text": [
      "def verbind_met_GB(username, hostname, gegevensbanknaam, password=None):\n",
      "    \"\"\"\n",
      "    Maak verbinding met een externe gegevensbank\n",
      "\n",
      "    Parameters\n",
      "    ----------\n",
      "\n",
      "    username:           str\n",
      "                        Username van de gebruiker\n",
      "    hostname            str\n",
      "                        Naam van de host. In het geval van lokale server 'localhost'\n",
      "    gegevensbanknaam    str\n",
      "                        Naam van de gegevensbank\n",
      "    password            str, None\n",
      "                        Wachtwoord kan al meegegeven worden. Indien niet, wordt\n",
      "                        een wachtwoordveldje gegenereerd waar de gebruiker het\n",
      "                        kan ingeven.\n",
      "    Returns\n",
      "    -------\n",
      "    connection          connection object\n",
      "                        Dit is het soort object dat wordt teruggeven door\n",
      "                        connect() methods van packages die voldoen aan de DB-API\n",
      "\n",
      "    \"\"\"\n",
      "\n",
      "    if password is None:\n",
      "        password = getpass.getpass()  # Genereer vakje voor wachtwoord in te geven\n",
      "    else:\n",
      "        password = password\n",
      "\n",
      "    connection = mysql.connector.connect(\n",
      "        host=hostname, user=username, passwd=password, db=gegevensbanknaam\n",
      "    )\n",
      "    return connection\n",
      "\n",
      "- --- - --- - --- - --- - --- - --- - - --- - --- - --- - --- - --- - --- -\n",
      "\n",
      "def run_query(connection, query):\n",
      "    \"\"\"\n",
      "    Voer een query uit op een bestaande connection.\n",
      "\n",
      "    Geeft het resultaat van de query terug.\n",
      "\n",
      "    Parameters\n",
      "    ----------\n",
      "    connection      connection object\n",
      "                    Dit is het soort object dat wordt teruggeven door\n",
      "                    connect() methods van packages die voldoen aan de DB-API\n",
      "    query           str\n",
      "                    SQL-query geschreven als een gewone string\n",
      "\n",
      "    Returns\n",
      "    -------\n",
      "\n",
      "    \"\"\"\n",
      "\n",
      "    # Maak een cursor en voer query uit\n",
      "    cursor = connection.cursor()\n",
      "    cursor.execute(query)\n",
      "\n",
      "    # Haal het resultaat op\n",
      "    res = cursor.fetchall()\n",
      "\n",
      "    return res\n",
      "\n",
      "- --- - --- - --- - --- - --- - --- - - --- - --- - --- - --- - --- - --- -\n",
      "\n",
      "def res_to_df(query_result, column_names):\n",
      "    \"\"\"\n",
      "    Zet ruwe output van een query om naar een DataFrame met gegeven kolomnamen.\n",
      "\n",
      "    Let op: Het resultaat van de query moet dus exact evenveel kolommen bevatten\n",
      "    als kolomnamen die je meegeeft. Als dit niet het geval is, is dit een indicatie\n",
      "    dat je oplossing fout is. (Gezien wij de kolomnamen van de oplossing al cadeau doen)\n",
      "\n",
      "    Parameters\n",
      "    ----------\n",
      "    query_result:\n",
      "                    Resultaat van een uitgevoerde query zoals dat gegeven wordt\n",
      "                    door cursor.fetchall()\n",
      "    column_names    list\n",
      "                    Lijst van kolomnamen voor het resulterende DataFrame\n",
      "\n",
      "    Returns\n",
      "    -------\n",
      "    df:             pd.DataFrame\n",
      "                    DataFrame dat het resultaat bevat.\n",
      "\n",
      "    \"\"\"\n",
      "\n",
      "    df = pd.DataFrame(query_result, columns=column_names)\n",
      "    return df\n",
      "\n"
     ]
    }
   ],
   "source": [
    "print(getsource(verbind_met_GB))\n",
    "print(\"- --- - --- - --- - --- - --- - --- - - --- - --- - --- - --- - --- - --- -\\n\")\n",
    "print(getsource(run_query))\n",
    "print(\"- --- - --- - --- - --- - --- - --- - - --- - --- - --- - --- - --- - --- -\\n\")\n",
    "print(getsource(res_to_df))"
   ]
  },
  {
   "cell_type": "code",
   "execution_count": 4,
   "metadata": {},
   "outputs": [
    {
     "data": {
      "text/markdown": [
       "## 1.3 Kolomnamen en input parameters\n",
       "\n",
       "We leggen op voorhand reeds de **kolomnamen van de oplossingen**, en de **naam en types van de inputparameters** vast. Hier moet je je dus aan houden en mag je dus niks aan wijzigen.\n",
       "\n",
       "- Het aantal kolommen (en hun volgorde) van jullie oplossing en de onze moeten exact overeen komen, vandaar dat de kolomnamen hieronder gegeven zijn. Dit komt trouwens van pas bij het opstellen van je queries! \n",
       "    \n",
       "- Dankzij de voorbeeldparameters, die al gegeven zijn in de functiedefinitie e.g.: `query_42(connection, col_names, super_voorbeeldparam = 101)` weten jullie exact welke vorm en type (integer, lijst, etc) de inputparameters moeten hebben. Wijzig zeker niets aan de naam van die parameters (*super_voorbeeldparam* blijft *super_voorbeeldparam*). De default waarden geven op hun beurt dan weer informatie over het type van de inputparameters. Let wel: de (soms onnozele) default waarden zijn _louter ter illustratie_, zorg ervoor dat je query ook met andere waarden dan de defaults werkt!\n",
       "\n",
       "**Samengevat: oplossingen die deze vorm niet respecteren, zullen crashen op onze machines en resulteren in een score van 0 op die query.**\n"
      ],
      "text/plain": [
       "<IPython.core.display.Markdown object>"
      ]
     },
     "metadata": {},
     "output_type": "display_data"
    }
   ],
   "source": [
    "display(Markdown(parse_markdown(introduction_file, section_number=4)))"
   ]
  },
  {
   "cell_type": "code",
   "execution_count": 5,
   "metadata": {},
   "outputs": [
    {
     "name": "stdout",
     "output_type": "stream",
     "text": [
      "De kolomnamen van query_01: ['tname', 'year', 'HomeRun']\n",
      "    \n",
      "De kolomnamen van query_02: ['nameFirst', 'nameLast', 'birthYear', 'birthMonth', 'birthDay']\n",
      "    \n",
      "De kolomnamen van query_03: ['nameFirst', 'nameLast', 'tname']\n",
      "    \n",
      "De kolomnamen van query_04: ['teamID', 'name', 'yearID', 'W', 'L', 'MaxSalary']\n",
      "    \n",
      "De kolomnamen van query_05: ['teamID', 'name', 'yearID', 'rank']\n",
      "    \n",
      "De kolomnamen van query_06: ['playerID', 'nameFirst', 'nameLast']\n",
      "    \n",
      "De kolomnamen van query_07: ['playerID', 'nameFirst', 'nameLast', 'teamID']\n",
      "    \n",
      "De kolomnamen van query_08: ['teamID', 'tname', 'bestyear', 'HR', 'W']\n",
      "    \n",
      "De kolomnamen van query_09: ['teamID', 'tname', 'yearID', 'rank', 'HR']\n",
      "    \n",
      "De kolomnamen van query_10: ['teamId', 'tname', 'HOFplayercount']\n",
      "    \n"
     ]
    }
   ],
   "source": [
    "# Inspecteer de dictionairy van kolomnamen\n",
    "\n",
    "filename = os.path.join(solution_dir, \"all_q_colnam.json\")\n",
    "col_names = json.load(open(filename, \"r\"))\n",
    " \n",
    "# Inspecteer dictionary\n",
    "for k,v in col_names.items():\n",
    "    print(\"\"\"De kolomnamen van {}: {}\n",
    "    \"\"\".format(k,v))"
   ]
  },
  {
   "cell_type": "code",
   "execution_count": 6,
   "metadata": {},
   "outputs": [
    {
     "data": {
      "text/markdown": [
       "# 2. Instructies bij gebruik van de notebook\n",
       "\n",
       "Hieronder volgen 10 onvolledige functies (e.g., `query_42(connection, col_names, super_voorbeeldparam = ['joske', 'jef'])`). Aan jullie om ze aan te vullen zodat de functie:  \n",
       "\n",
       "1. Een corecte query opstelt\n",
       "2. De query uitvoert op de database\n",
       "3. Het resultaat teruggeeft in een DataFrame.\n",
       "\n",
       "Voor stap 2 en 3 zijn de nodige functies al voorhanden, i.e.: `run_query(connection, query)` en `res_to_df(res, column_names)`. Jullie werk zal dus vooral bestaan uit stap 1, queries opstellen. Elke functie heeft minstens 2 inputargumenten:\n",
       "\n",
       "1. `connection`:   Een connection object \n",
       "2. `column_names`: De kolomnamen van het Pandas DataFrame\n",
       "    \n",
       "Gevolgd door eventuele extra argumenten (e.g., `super_voorbeeldparam = ['joske','jef']`) die dienen om parameters in te query te injecteren. \n",
       "\n",
       "**Nogmaals: verander niets aan de namen van de functies, namen van de functie-argumenten en de kolomnamen van de resulterende DataFrames. Wijzigingen hieraan leiden onvermijdelijk tot een score van 0 op die query.**\n",
       "\n",
       "Je kan naar believen extra cellen toevoegen om je queries te testen, resultaten te inspecteren etc. Daar dient deze notebook immers voor, deze notebook wordt **niet ingediend** als oplossing.\n",
       "\n",
       "We vragen jullie om de finale, ingevulde functies te kopiëren naar een extern python script dat _enkel en alleen_ deze ingevulde functies bevat. Cf. de laatste sectie van deze notebook voor instructies omtrent hoe in te dienen.\n",
       "\n",
       "## 2.1 Voorbeeld-query opstellen\n",
       "\n",
       "Om jullie al wat op weg te zetten volgt hier een voorbeeldje over hoe je te werk kan gaan.\n",
       "\n",
       "**Beschrijving**\n",
       "\n",
       "Het resultaat van deze functie is een Pandas DataFrame met teamnaam, jaar en aantal homeruns van teams die meer dan een gegeven aantal `homeruns` hadden in dat jaar.\n",
       "\n",
       "Sorteer aflopend op aantal homeruns.\n",
       "\n",
       "**Oplossing**\n",
       "\n"
      ],
      "text/plain": [
       "<IPython.core.display.Markdown object>"
      ]
     },
     "metadata": {},
     "output_type": "display_data"
    }
   ],
   "source": [
    "display(Markdown(parse_markdown(instructions_file, section_number=[1, 2])))"
   ]
  },
  {
   "cell_type": "code",
   "execution_count": 7,
   "metadata": {},
   "outputs": [],
   "source": [
    "# Voorbeeld-query (oplossing)\n",
    "def query_EX(connection, column_names, homeruns=20):\n",
    "    # Bouw je query\n",
    "    query = \"\"\"\n",
    "    select    t.name, t.yearID, t.HR\n",
    "    from      Teams as t\n",
    "    where     t.HR > {}\n",
    "    order by  t.HR DESC;\n",
    "    \"\"\".format(\n",
    "        homeruns\n",
    "    )  # TIP: Zo krijg je parameters in de string (samen met `{}` in de string)\n",
    "\n",
    "    # Stap 2 & 3\n",
    "    res = run_query(connection, query)  # Query uitvoeren\n",
    "    df = res_to_df(res, column_names)  # Query in DataFrame brengen\n",
    "\n",
    "    return df"
   ]
  },
  {
   "cell_type": "code",
   "execution_count": 8,
   "metadata": {},
   "outputs": [
    {
     "data": {
      "text/markdown": [
       "## 2.2 Voorbeeld-query runnen\n",
       "\n",
       "Om een query te runnen maken we gebruik van de hulpfunctie die we eerder ter beschikking stelden (e.g. `verbind_met_GB`). Concreet bestaat dit proces uit twee stappen:\n",
       "\n",
       "1. Eerst maken we een verbindingsobject met de databank\n",
       "2. Vervolgens runnen we onze query, en inspecteren we het resultaat.\n"
      ],
      "text/plain": [
       "<IPython.core.display.Markdown object>"
      ]
     },
     "metadata": {},
     "output_type": "display_data"
    }
   ],
   "source": [
    "display(Markdown(parse_markdown(instructions_file, section_number=3)))"
   ]
  },
  {
   "cell_type": "code",
   "execution_count": 9,
   "metadata": {
    "hidden": true
   },
   "outputs": [],
   "source": [
    "# STAP 01: Verbindingsobject aanmaken\n",
    "\n",
    "username = 'root'      # Vervang dit als je via een andere user queries stuurt\n",
    "hostname = 'localhost' # Als je een databank lokaal draait, is dit localhost.\n",
    "db = 'db-project'          # Naam van de gegevensbank op je XAMPP Mysql server\n",
    "\n",
    "# We verbinden met de gegevensbank\n",
    "c = verbind_met_GB(username, hostname, db, password='')"
   ]
  },
  {
   "cell_type": "code",
   "execution_count": 10,
   "metadata": {
    "hidden": true
   },
   "outputs": [
    {
     "data": {
      "text/html": [
       "<div>\n",
       "<style scoped>\n",
       "    .dataframe tbody tr th:only-of-type {\n",
       "        vertical-align: middle;\n",
       "    }\n",
       "\n",
       "    .dataframe tbody tr th {\n",
       "        vertical-align: top;\n",
       "    }\n",
       "\n",
       "    .dataframe thead th {\n",
       "        text-align: right;\n",
       "    }\n",
       "</style>\n",
       "<table border=\"1\" class=\"dataframe\">\n",
       "  <thead>\n",
       "    <tr style=\"text-align: right;\">\n",
       "      <th></th>\n",
       "      <th>tname</th>\n",
       "      <th>year</th>\n",
       "      <th>HomeRun</th>\n",
       "    </tr>\n",
       "  </thead>\n",
       "  <tbody>\n",
       "    <tr>\n",
       "      <th>2689</th>\n",
       "      <td>Cleveland Naps</td>\n",
       "      <td>1907</td>\n",
       "      <td>11</td>\n",
       "    </tr>\n",
       "    <tr>\n",
       "      <th>2690</th>\n",
       "      <td>St. Louis Browns</td>\n",
       "      <td>1884</td>\n",
       "      <td>11</td>\n",
       "    </tr>\n",
       "    <tr>\n",
       "      <th>2691</th>\n",
       "      <td>Detroit Tigers</td>\n",
       "      <td>1907</td>\n",
       "      <td>11</td>\n",
       "    </tr>\n",
       "    <tr>\n",
       "      <th>2692</th>\n",
       "      <td>Chicago White Sox</td>\n",
       "      <td>1905</td>\n",
       "      <td>11</td>\n",
       "    </tr>\n",
       "    <tr>\n",
       "      <th>2693</th>\n",
       "      <td>Philadelphia Phillies</td>\n",
       "      <td>1908</td>\n",
       "      <td>11</td>\n",
       "    </tr>\n",
       "  </tbody>\n",
       "</table>\n",
       "</div>"
      ],
      "text/plain": [
       "                      tname  year  HomeRun\n",
       "2689         Cleveland Naps  1907       11\n",
       "2690       St. Louis Browns  1884       11\n",
       "2691         Detroit Tigers  1907       11\n",
       "2692      Chicago White Sox  1905       11\n",
       "2693  Philadelphia Phillies  1908       11"
      ]
     },
     "execution_count": 10,
     "metadata": {},
     "output_type": "execute_result"
    }
   ],
   "source": [
    "# STAP 02: Query runnen, resultaat ophalen en inspecteren.\n",
    "\n",
    "kolomnamen_voorbeeldquery = col_names['query_01']        # Voorbeeldquery heeft dezelfde kolomnamen als query 1.\n",
    "\n",
    "df = query_EX(c,kolomnamen_voorbeeldquery,homeruns=10)   # Query-functie uitvoeren, geeft resultaat van de query in een DataFrame\n",
    "\n",
    "df.tail()                                                # Inspecteer laatste resultaten (laat. tail() weg om alles te zien)"
   ]
  },
  {
   "cell_type": "code",
   "execution_count": 11,
   "metadata": {
    "hidden": true
   },
   "outputs": [
    {
     "data": {
      "text/html": [
       "<div>\n",
       "<style scoped>\n",
       "    .dataframe tbody tr th:only-of-type {\n",
       "        vertical-align: middle;\n",
       "    }\n",
       "\n",
       "    .dataframe tbody tr th {\n",
       "        vertical-align: top;\n",
       "    }\n",
       "\n",
       "    .dataframe thead th {\n",
       "        text-align: right;\n",
       "    }\n",
       "</style>\n",
       "<table border=\"1\" class=\"dataframe\">\n",
       "  <thead>\n",
       "    <tr style=\"text-align: right;\">\n",
       "      <th></th>\n",
       "      <th>tname</th>\n",
       "      <th>year</th>\n",
       "      <th>HomeRun</th>\n",
       "    </tr>\n",
       "  </thead>\n",
       "  <tbody>\n",
       "    <tr>\n",
       "      <th>1519</th>\n",
       "      <td>Cleveland Indians</td>\n",
       "      <td>1940</td>\n",
       "      <td>101</td>\n",
       "    </tr>\n",
       "    <tr>\n",
       "      <th>1520</th>\n",
       "      <td>Detroit Tigers</td>\n",
       "      <td>1976</td>\n",
       "      <td>101</td>\n",
       "    </tr>\n",
       "    <tr>\n",
       "      <th>1521</th>\n",
       "      <td>Philadelphia Phillies</td>\n",
       "      <td>1970</td>\n",
       "      <td>101</td>\n",
       "    </tr>\n",
       "    <tr>\n",
       "      <th>1522</th>\n",
       "      <td>St. Louis Cardinals</td>\n",
       "      <td>1980</td>\n",
       "      <td>101</td>\n",
       "    </tr>\n",
       "    <tr>\n",
       "      <th>1523</th>\n",
       "      <td>Seattle Mariners</td>\n",
       "      <td>2010</td>\n",
       "      <td>101</td>\n",
       "    </tr>\n",
       "  </tbody>\n",
       "</table>\n",
       "</div>"
      ],
      "text/plain": [
       "                      tname  year  HomeRun\n",
       "1519      Cleveland Indians  1940      101\n",
       "1520         Detroit Tigers  1976      101\n",
       "1521  Philadelphia Phillies  1970      101\n",
       "1522    St. Louis Cardinals  1980      101\n",
       "1523       Seattle Mariners  2010      101"
      ]
     },
     "execution_count": 11,
     "metadata": {},
     "output_type": "execute_result"
    }
   ],
   "source": [
    "# EXTRA: Query runnen met andere parameterwaarde\n",
    "\n",
    "kolomnamen_voorbeeldquery = col_names['query_01']        # Voorbeeldquery heeft dezelfde kolomnamen als query 1.\n",
    "\n",
    "df = query_EX(c,kolomnamen_voorbeeldquery,homeruns=100)  # Query-functie uitvoeren, geeft resultaat van de query in een DataFrame\n",
    "\n",
    "df.tail()                                                # Inspecteer laatste resultaten (laat. tail() weg om alles te zien)"
   ]
  },
  {
   "cell_type": "markdown",
   "metadata": {},
   "source": [
    "## 3. Queries"
   ]
  },
  {
   "cell_type": "code",
   "execution_count": 12,
   "metadata": {},
   "outputs": [
    {
     "data": {
      "text/markdown": [
       "## 3.1 Query 01\n",
       "\n",
       "**Beschrijving**\n",
       "\n",
       "Het resultaat van deze functie is een Pandas dataframe met: de teamnaam, het jaar, en het aantal homeruns per team, en dit voor alle teams.\n",
       "\n",
       "Sorteer aflopend op het aantal homeruns.\n",
       "\n"
      ],
      "text/plain": [
       "<IPython.core.display.Markdown object>"
      ]
     },
     "metadata": {},
     "output_type": "display_data"
    }
   ],
   "source": [
    "display(Markdown(parse_markdown(qry_description_file, section_number=1)))"
   ]
  },
  {
   "cell_type": "code",
   "execution_count": 13,
   "metadata": {},
   "outputs": [],
   "source": [
    "def query_01(connection, column_names):\n",
    "    \n",
    "    # Bouw je query\n",
    "    query=\"\"\"\n",
    "    MAAK QUERY HIER\n",
    "    \"\"\"\n",
    "    \n",
    "    # Stap 2 & 3\n",
    "    res = run_query(connection, query)         # Query uitvoeren\n",
    "    df = res_to_df(res, column_names)          # Query in DataFrame brengen\n",
    "    \n",
    "    return df"
   ]
  },
  {
   "cell_type": "code",
   "execution_count": 14,
   "metadata": {},
   "outputs": [
    {
     "data": {
      "text/markdown": [
       "## 3.2 Query 02\n",
       "\n",
       "**Beschrijving**\n",
       "\n",
       "Het resultaat van deze functie is een Pandas dataframe met: de voornaam, achternaam, geboortejaar, geboortemaand, geboortedag van spelers die hun eerste major league appearance maakten na een gegeven *`datum_x`*. \n",
       "\n",
       "Sorteer alfabetisch oplopend op achternaam.\n",
       "\n"
      ],
      "text/plain": [
       "<IPython.core.display.Markdown object>"
      ]
     },
     "metadata": {},
     "output_type": "display_data"
    }
   ],
   "source": [
    "display(Markdown(parse_markdown(qry_description_file, section_number=2)))"
   ]
  },
  {
   "cell_type": "code",
   "execution_count": 15,
   "metadata": {},
   "outputs": [],
   "source": [
    "def query_02(connection, column_names, datum_x='1980-01-16'):\n",
    "    \n",
    "    # Bouw je query\n",
    "    query=\"\"\"\n",
    "    MAAK QUERY HIER\n",
    "    \"\"\"\n",
    "    \n",
    "    # Stap 2 & 3\n",
    "    res = run_query(connection, query)         # Query uitvoeren\n",
    "    df = res_to_df(res, column_names)          # Query in DataFrame brengen\n",
    "    \n",
    "    return df"
   ]
  },
  {
   "cell_type": "code",
   "execution_count": 16,
   "metadata": {},
   "outputs": [
    {
     "data": {
      "text/markdown": [
       "## 3.3 Query 03\n",
       "\n",
       "**Beschrijving**\n",
       "\n",
       "Het resultaat van deze functie is een Pandas dataframe dat, per club: de clubnaam en de voor- en achternaam van alle managers weergeeft, die ooit voor de club gewerkt hebben als playermanager. Per club mag een welbepaalde manager slechts 1 keer in het resultaat voorkomen. \n",
       "\n",
       "Sorteer alfabetisch oplopend op clubnaam.\n",
       "\n",
       "\n"
      ],
      "text/plain": [
       "<IPython.core.display.Markdown object>"
      ]
     },
     "metadata": {},
     "output_type": "display_data"
    }
   ],
   "source": [
    "display(Markdown(parse_markdown(qry_description_file, section_number=3)))"
   ]
  },
  {
   "cell_type": "code",
   "execution_count": 17,
   "metadata": {},
   "outputs": [],
   "source": [
    "def query_03(connection, column_names):\n",
    "    \n",
    "    # Bouw je query\n",
    "    query=\"\"\"\n",
    "    MAAK QUERY HIER\n",
    "    \"\"\"\n",
    "    \n",
    "    # Stap 2 & 3\n",
    "    res = run_query(connection, query)         # Query uitvoeren\n",
    "    df = res_to_df(res, column_names)          # Query in DataFrame brengen\n",
    "    \n",
    "    return df"
   ]
  },
  {
   "cell_type": "code",
   "execution_count": 18,
   "metadata": {},
   "outputs": [
    {
     "data": {
      "text/markdown": [
       "## 3.4 Query 04\n",
       "\n",
       "**Beschrijving**\n",
       "\n",
       "Het resultaat van deze functie is een Pandas dataframe dat: de teams waarvan, gedurende een bepaald jaar, geen enkele speler meer verdiende dan `salaris`.\n",
       "\n",
       "Een speler speelt voor een team in een bepaald jaar wanneer deze speler datzelfde jaar betaald wordt door dat team. \n",
       "\n",
       "Het resultaat bestaat uit teamID, naam, jaar, wins en losses in dat jaar en tenslotte het maximum salaris in dat team.\n",
       "\n",
       "Sorteer oplopend op teamID en dan oplopend op yearID.\n",
       "\n",
       "\n"
      ],
      "text/plain": [
       "<IPython.core.display.Markdown object>"
      ]
     },
     "metadata": {},
     "output_type": "display_data"
    }
   ],
   "source": [
    "display(Markdown(parse_markdown(qry_description_file, section_number=4)))"
   ]
  },
  {
   "cell_type": "code",
   "execution_count": 19,
   "metadata": {},
   "outputs": [],
   "source": [
    "def query_04(connection, column_names, salaris=\"10000\"):\n",
    "    \n",
    "    # Bouw je query\n",
    "    query=\"\"\"\n",
    "    MAAK QUERY HIER\n",
    "    \"\"\"\n",
    "    \n",
    "    # Stap 2 & 3\n",
    "    res = run_query(connection, query)         # Query uitvoeren\n",
    "    df = res_to_df(res, column_names)          # Query in DataFrame brengen\n",
    "    \n",
    "    return df"
   ]
  },
  {
   "cell_type": "code",
   "execution_count": 20,
   "metadata": {},
   "outputs": [
    {
     "data": {
      "text/markdown": [
       "## 3.5 Query 05\n",
       "\n",
       "**Beschrijving**\n",
       "\n",
       "Het resultaat van deze functie is een Pandas dataframe dat: alle teams bevat waar een (i.e., minstens 1) speler voor speelde die tussen `jaar_x` en `jaar_y` werd opgenomen in de Hall of Fame.\n",
       "\n",
       "Een speler speelt voor een team in een bepaald jaar wanneer deze speler datzelfde jaar betaald wordt door dat team. \n",
       "\n",
       "Het resultaat bestaat uit teamID, naam, jaar en de rang.\n",
       "\n",
       "Sorteer aflopend op jaar en een team slechts eenmaal voorkomt per jaar.\n",
       "\n",
       "\n"
      ],
      "text/plain": [
       "<IPython.core.display.Markdown object>"
      ]
     },
     "metadata": {},
     "output_type": "display_data"
    }
   ],
   "source": [
    "display(Markdown(parse_markdown(qry_description_file, section_number=5)))"
   ]
  },
  {
   "cell_type": "code",
   "execution_count": 21,
   "metadata": {},
   "outputs": [],
   "source": [
    "def query_05(connection, column_names, jaar_x=\"1960\", jaar_y=\"1980\"):\n",
    "    \n",
    "    # Bouw je query\n",
    "    query=\"\"\"\n",
    "    MAAK QUERY HIER\n",
    "    \"\"\"\n",
    "    \n",
    "    # Stap 2 & 3\n",
    "    res = run_query(connection, query)         # Query uitvoeren\n",
    "    df = res_to_df(res, column_names)          # Query in DataFrame brengen\n",
    "    \n",
    "    return df"
   ]
  },
  {
   "cell_type": "code",
   "execution_count": 22,
   "metadata": {},
   "outputs": [
    {
     "data": {
      "text/markdown": [
       "## 3.6 Query 06\n",
       "\n",
       "**Beschrijving**\n",
       "\n",
       "Het resultaat van deze functie is een Pandas dataframe dat alle unieke personen bevat die als manager meer dan `n_awards` hebben gewonnnen.\n",
       "\n",
       "Van deze personen willen we de playerID, voornaam en achternaam.\n",
       "\n",
       "Sorteer aflopend op achternaam.\n",
       "\n",
       "\n"
      ],
      "text/plain": [
       "<IPython.core.display.Markdown object>"
      ]
     },
     "metadata": {},
     "output_type": "display_data"
    }
   ],
   "source": [
    "display(Markdown(parse_markdown(qry_description_file, section_number=6)))"
   ]
  },
  {
   "cell_type": "code",
   "execution_count": 23,
   "metadata": {},
   "outputs": [],
   "source": [
    "def query_06(connection, column_names, n_awards=0):\n",
    "    \n",
    "    # Bouw je query\n",
    "    query=\"\"\"\n",
    "    MAAK QUERY HIER\n",
    "    \"\"\"\n",
    "    \n",
    "    # Stap 2 & 3\n",
    "    res = run_query(connection, query)         # Query uitvoeren\n",
    "    df = res_to_df(res, column_names)          # Query in DataFrame brengen\n",
    "    \n",
    "    return df"
   ]
  },
  {
   "cell_type": "code",
   "execution_count": 24,
   "metadata": {},
   "outputs": [
    {
     "data": {
      "text/markdown": [
       "## 3.7 Query 07\n",
       "\n",
       "**Beschrijving**\n",
       "\n",
       "Het resultaat van deze functie is een Pandas dataframe dat: alle personen bevat die voor een team speelden dat tussen `jaar_x` en `jaar_y` meer dan `n_wins` heeft behaald. Let op, we bedoelen hier het *totaal* aantal wins van een team in dat bepaalde interval tussen `jaar_x` en `jaar_y`, over de jaren heen dus.\n",
       "\n",
       "Een speler speelt voor een team in een bepaald jaar wanneer deze speler datzelfde jaar betaald wordt door dat team. \n",
       "\n",
       "Van deze personen willen we de playerID, voornaam en achternaam en teamID.\n",
       "\n",
       "Sorteer oplopend op playerID.\n",
       "\n",
       "\n"
      ],
      "text/plain": [
       "<IPython.core.display.Markdown object>"
      ]
     },
     "metadata": {},
     "output_type": "display_data"
    }
   ],
   "source": [
    "display(Markdown(parse_markdown(qry_description_file, section_number=7)))"
   ]
  },
  {
   "cell_type": "code",
   "execution_count": 25,
   "metadata": {},
   "outputs": [],
   "source": [
    "def query_07(connection, column_names, jaar_x=1980, jaar_y=1990, n_wins=50):\n",
    "    \n",
    "    # Bouw je query\n",
    "    query=\"\"\"\n",
    "    MAAK QUERY HIER\n",
    "    \"\"\"\n",
    "    \n",
    "    # Stap 2 & 3\n",
    "    res = run_query(connection, query)         # Query uitvoeren\n",
    "    df = res_to_df(res, column_names)          # Query in DataFrame brengen\n",
    "    \n",
    "    return df"
   ]
  },
  {
   "cell_type": "code",
   "execution_count": 26,
   "metadata": {},
   "outputs": [
    {
     "data": {
      "text/markdown": [
       "## 3.8 Query 08\n",
       "\n",
       "**Beschrijving**\n",
       "\n",
       "Het resultaat van deze functie is een Pandas dataframe dat voor alle teams: hun team ID, naam, *beste jaar* en het aantal homeruns en wins van dat jaar bevat.\n",
       "\n",
       "Het *\"beste jaar\"* voor een team wordt hier gedefinieerd als het jaar met het hoogste aantal homeruns van dat team. In het geval van jaren met hetzelfde aantal homeruns is het meest recente jaar het beste jaar. \n",
       "\n",
       "Sorteer aflopend op aantal homeruns en dan aflopend op teamID.\n",
       "\n",
       "\n"
      ],
      "text/plain": [
       "<IPython.core.display.Markdown object>"
      ]
     },
     "metadata": {},
     "output_type": "display_data"
    }
   ],
   "source": [
    "display(Markdown(parse_markdown(qry_description_file, section_number=8)))"
   ]
  },
  {
   "cell_type": "code",
   "execution_count": 27,
   "metadata": {},
   "outputs": [],
   "source": [
    "def query_08(connection, column_names):\n",
    "    \n",
    "    # Bouw je query\n",
    "    query=\"\"\"\n",
    "    MAAK QUERY HIER\n",
    "    \"\"\"\n",
    "    \n",
    "    # Stap 2 & 3\n",
    "    res = run_query(connection, query)         # Query uitvoeren\n",
    "    df = res_to_df(res, column_names)          # Query in DataFrame brengen\n",
    "    \n",
    "    return df"
   ]
  },
  {
   "cell_type": "code",
   "execution_count": 28,
   "metadata": {},
   "outputs": [
    {
     "data": {
      "text/markdown": [
       "## 3.9 Query 09\n",
       "\n",
       "**Beschrijving**\n",
       "\n",
       "Het resultaat van deze functie is een Pandas dataframe dat voor een `jaar_x` alle teams bevat die voor dat jaar een bovengemiddeld aantal homeruns hadden.\n",
       "\n",
       "Van deze teams willen we de teamID, naam, jaar, rang en natuurlijk het aantal homeruns.\n",
       "\n",
       "Sorteer aflopend op aantal homeruns en dan aflopend op rang.\n",
       "\n",
       "\n"
      ],
      "text/plain": [
       "<IPython.core.display.Markdown object>"
      ]
     },
     "metadata": {},
     "output_type": "display_data"
    }
   ],
   "source": [
    "display(Markdown(parse_markdown(qry_description_file, section_number=9)))"
   ]
  },
  {
   "cell_type": "code",
   "execution_count": 29,
   "metadata": {},
   "outputs": [],
   "source": [
    "def query_09(connection, column_names, jaar_x=\"1991\"):\n",
    "    \n",
    "    # Bouw je query\n",
    "    query=\"\"\"\n",
    "    MAAK QUERY HIER\n",
    "    \"\"\"\n",
    "    \n",
    "    # Stap 2 & 3\n",
    "    res = run_query(connection, query)         # Query uitvoeren\n",
    "    df = res_to_df(res, column_names)          # Query in DataFrame brengen\n",
    "    \n",
    "    return df"
   ]
  },
  {
   "cell_type": "code",
   "execution_count": 30,
   "metadata": {},
   "outputs": [
    {
     "data": {
      "text/markdown": [
       "## 3.10 Query 10\n",
       "\n",
       "**Beschrijving**\n",
       "\n",
       "\n",
       "Het resultaat van deze functie is een Pandas dataframe dat: de teamnaam bevat van het team (of de teams, indien meerdere) dat het meeste aantal spelers heeft die zijn opgenomen in de Hall of Fame.\n",
       "\n",
       "Van dit team willen we de teamID, naam en het aantal spelers opgenomen in de Hall of Fame.\n"
      ],
      "text/plain": [
       "<IPython.core.display.Markdown object>"
      ]
     },
     "metadata": {},
     "output_type": "display_data"
    }
   ],
   "source": [
    "display(Markdown(parse_markdown(qry_description_file, section_number=10)))"
   ]
  },
  {
   "cell_type": "code",
   "execution_count": 31,
   "metadata": {},
   "outputs": [],
   "source": [
    "def query_10(connection, column_names):\n",
    "    \n",
    "    # Bouw je query\n",
    "    query=\"\"\"\n",
    "    MAAK QUERY HIER\n",
    "    \"\"\"\n",
    "    \n",
    "    # Stap 2 & 3\n",
    "    res = run_query(connection, query)         # Query uitvoeren\n",
    "    df = res_to_df(res, column_names)          # Query in DataFrame brengen\n",
    "    \n",
    "    return df"
   ]
  },
  {
   "cell_type": "code",
   "execution_count": 32,
   "metadata": {},
   "outputs": [
    {
     "data": {
      "text/markdown": [
       "## 4. Hoe en wat in te dienen?\n",
       "\n",
       "Nu je alle queries ingevuld (en hopelijk getest), ben je klaar om je taak in te dienen. De deadline wordt gecommuniceerd via Toledo.\n",
       "\n",
       "1. **Maak een leeg bestand** aan, en geef het de bestandsnaam met formaat: `achternaam_voornaam_studentennummer.py`.\n",
       "    - `achternaam` verwijst naar je achternaam, bijvoorbeeld `Janssens`\n",
       "    - `voornaam`  verwijst naar je achternaam, bijvoorbeeld `Patrick`\n",
       "    - `studentennummer` is je studentennummer zoals vermeld op je studentenkaart, bijvoorbeeld r0123456\n",
       "    -  Een goede bestandsnaam is dus bijvoorbeeld: `janssens_patrick_r0123456.py`\n",
       "\n",
       "2. Kopieer **ALLE INGEVULDE FUNCTIES EN NIETS ANDERS** naar dit bestand. Het bevat dus _enkel en alleen_ de functies:\n",
       "    - query_01(connection, column_names)\n",
       "    - query_02(connection, column_names, datum_x='1980-01-16')\n",
       "    - etc, etc\n",
       "\n",
       "3. **TIP**: voor de eerste 3 queries kan je je oplossing zelfs testen via de `verification.ipynb` notebook!\n",
       "    - Eerst worden je functies ingelezen vanuit het zonet aangemaakte bestand\n",
       "    - Die functies worden automatisch gerund, met verschillende parameters\n",
       "    - De resultaten worden opgeslagen als `.csv` files (in de `out` folder)\n",
       "    - Die `.csv` files worden vergeleken met de `.csv` files van de oplossing (te vinden in de `solution` folder).\n",
       "    - Elke query krijgt een score toegekend. Cf. https://en.wikipedia.org/wiki/F1_score.  \n",
       "    - Al dan niet sorteren is verantwoordelijk voor 10% van je score.\n",
       "    - Een kort rapport wordt weergegeven die je hints kan geven over wat er mis is met je query. \n",
       "        - TP: True Positives\n",
       "        - TN: True Negatives\n",
       "        - FP: False Positives\n",
       "    - Dit kan je helpen om je oplossing van de eerste 3 queries te debuggen, _en_ om zeker te zijn dat je `achternaam_voornaam_studentennummer.py` bestand correct werkt.\n",
       "    - Voor de overige 7 queries houden we de oplossingen geheim tot na de deadline. Daar moet je dus zelf de resultaten inspecteren om jezelf ervan te overtuigen dat deze inderdaad correct zijn.\n",
       "        \n",
       "4. Als je oplossing definitief is, submit je je `achternaam_voornaam_studentennummer.py` bestand via Toledo. De deadline wordt gecommuniceerd via Toledo.   \n",
       "\n",
       "5. Nogmaals, als finale submissie verwachten we dus enkel een python bestand (e.g., `achternaam_voornaam_studentennummer.py`) dat jullie ingevulde functies bevat en niks anders. Zoals zonet uitgelegd laat de `verification.ipynb` notebook je toe om zelf te checken dat je bestand aan deze standaard voldoet. **Bijgevolg: eender welke afwijking van deze standaard is absoluut onacceptabel en zal als dusdanig behandeld worden.**  \n"
      ],
      "text/plain": [
       "<IPython.core.display.Markdown object>"
      ]
     },
     "metadata": {},
     "output_type": "display_data"
    }
   ],
   "source": [
    "display(Markdown(parse_markdown(submissions_file, section_number=1)))"
   ]
  }
 ],
 "metadata": {
  "kernelspec": {
   "display_name": "db-2020",
   "language": "python",
   "name": "db-2020"
  },
  "language_info": {
   "codemirror_mode": {
    "name": "ipython",
    "version": 3
   },
   "file_extension": ".py",
   "mimetype": "text/x-python",
   "name": "python",
   "nbconvert_exporter": "python",
   "pygments_lexer": "ipython3",
   "version": "3.8.1"
  },
  "toc": {
   "nav_menu": {},
   "number_sections": true,
   "sideBar": true,
   "skip_h1_title": true,
   "toc_cell": false,
   "toc_position": {
    "height": "887px",
    "left": "0px",
    "right": "1705px",
    "top": "107px",
    "width": "215px"
   },
   "toc_section_display": true,
   "toc_window_display": true
  },
  "toc-autonumbering": false
 },
 "nbformat": 4,
 "nbformat_minor": 4
}
